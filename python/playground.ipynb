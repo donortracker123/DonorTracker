{
 "cells": [
  {
   "cell_type": "code",
   "execution_count": 8,
   "metadata": {},
   "outputs": [],
   "source": [
    "from pathlib import Path\n",
    "import duckdb\n",
    "import pandas as pd\n",
    "# Define the path to the Parquet file\n",
    "crs_file = Path(\"data\") / \"CRS.parquet\"\n",
    "dac1_file = Path(\"data\") / \"Table1_Data.csv\"\n",
    "rf_file = Path(\"data\") / \"riomarkers.csv\"\n",
    "imputed_multilateral_file = Path(\"data\") / \"seek_sectors_revised_with_channel.parquet\"\n",
    "climate_riomarker_file = Path(\"data\") / \"climate_riomarkers.txt\"\n",
    "multisystem_file = Path(\"data\") / \"multisystem.txt\"\n",
    "\n",
    "pd.set_option('display.max_rows', 100)  # Set a specific number of rows\n",
    "pd.set_option('display.width', 1000)       # Adjust overall display width\n",
    "pd.set_option('display.max_colwidth', 500)\n",
    "\n",
    "\n",
    "data_save_path = Path(\"../\") \n",
    "\n",
    "DAC_COUNTRIES = [\n",
    "  \"Australia\", \"Austria\", \"Belgium\", \"Canada\", \"Czechia\", \"Denmark\", \"Finland\", \"France\", \"Germany\", \"Greece\", \"Hungary\",\n",
    "  \"Iceland\", \"Ireland\", \"Italy\", \"Japan\", \"Korea\", \"Luxembourg\", \"Netherlands\", \"New Zealand\", \"Norway\", \"Poland\",\n",
    "  \"Portugal\", \"Slovak Republic\", \"Slovenia\", \"Spain\", \"Sweden\", \"Switzerland\", \"United Kingdom\", \"United States\", \"Estonia\", \"Lithuania\"\n",
    "]"
   ]
  },
  {
   "cell_type": "code",
   "execution_count": 9,
   "metadata": {},
   "outputs": [],
   "source": [
    "#Function to get the available columns in a file\n",
    "def print_column_names(file):\n",
    "    with duckdb.connect() as conn:\n",
    "\n",
    "        cols_query = f\"\"\"\n",
    "        SELECT * FROM '{file.as_posix()}'\n",
    "        LIMIT 1\n",
    "        \"\"\"\n",
    "        result = conn.execute(cols_query)\n",
    "\n",
    "        # Get the column names from the description attribute\n",
    "        column_names = [desc[0] for desc in result.description]\n",
    "\n",
    "    return column_names"
   ]
  },
  {
   "cell_type": "markdown",
   "metadata": {},
   "source": [
    "## CRS DATA"
   ]
  },
  {
   "cell_type": "code",
   "execution_count": 10,
   "metadata": {},
   "outputs": [
    {
     "data": {
      "text/plain": [
       "['year',\n",
       " 'donor_code',\n",
       " 'de_donorcode',\n",
       " 'donor_name',\n",
       " 'agency_code',\n",
       " 'agency_name',\n",
       " 'crs_id',\n",
       " 'project_number',\n",
       " 'initial_report',\n",
       " 'recipient_code',\n",
       " 'de_recipientcode',\n",
       " 'recipient_name',\n",
       " 'region_code',\n",
       " 'de_regioncode',\n",
       " 'region_name',\n",
       " 'incomegroup_code',\n",
       " 'de_incomegroupcode',\n",
       " 'incomegroup_name',\n",
       " 'flow_code',\n",
       " 'flow_name',\n",
       " 'bi_multi',\n",
       " 'category',\n",
       " 'finance_t',\n",
       " 'aid_t',\n",
       " 'usd_commitment',\n",
       " 'usd_disbursement',\n",
       " 'usd_received',\n",
       " 'usd_commitment_defl',\n",
       " 'usd_disbursement_defl',\n",
       " 'usd_received_defl',\n",
       " 'usd_adjustment',\n",
       " 'usd_adjustment_defl',\n",
       " 'usd_amount_untied',\n",
       " 'usd_amount_partial_tied',\n",
       " 'usd_amount_tied',\n",
       " 'usd_amount_untied_defl',\n",
       " 'usd_amount_partial_tied_defl',\n",
       " 'usd_amounttied_defl',\n",
       " 'usd_irtc',\n",
       " 'usd_expert_commitment',\n",
       " 'usd_expert_extended',\n",
       " 'usd_export_credit',\n",
       " 'currency_code',\n",
       " 'commitment_national',\n",
       " 'disbursement_national',\n",
       " 'grant_equiv',\n",
       " 'usd_grant_equiv',\n",
       " 'short_description',\n",
       " 'project_title',\n",
       " 'purpose_code',\n",
       " 'purpose_name',\n",
       " 'sector_code',\n",
       " 'sector_name',\n",
       " 'channel_code',\n",
       " 'channel_name',\n",
       " 'channel_reported_name',\n",
       " 'parent_channel_code',\n",
       " 'geography',\n",
       " 'ld_cflag',\n",
       " 'ld_cflag_name',\n",
       " 'expected_start_date',\n",
       " 'completion_date',\n",
       " 'long_description',\n",
       " 'sd_gfocus',\n",
       " 'keywords',\n",
       " 'gender',\n",
       " 'environment',\n",
       " 'dig',\n",
       " 'trade',\n",
       " 'rmnch',\n",
       " 'drr',\n",
       " 'nutrition',\n",
       " 'disability',\n",
       " 'ftc',\n",
       " 'pba',\n",
       " 'investment_project',\n",
       " 'blended_finance_type',\n",
       " 'biodiversity',\n",
       " 'climate_mitigation',\n",
       " 'climate_adaptation',\n",
       " 'desertification',\n",
       " 'commitment_date',\n",
       " 'type_repayment',\n",
       " 'number_repayment',\n",
       " 'interest1',\n",
       " 'interest2',\n",
       " 'repaydate1',\n",
       " 'repaydate2',\n",
       " 'usd_interest',\n",
       " 'usd_outstanding',\n",
       " 'usd_arrears_principal',\n",
       " 'usd_arrears_interest',\n",
       " 'capital_expend',\n",
       " 'ps_iflag',\n",
       " 'ps_iflag_name',\n",
       " 'psi_add_type',\n",
       " 'psi_add_desc',\n",
       " 'psi_add_dev_obj']"
      ]
     },
     "execution_count": 10,
     "metadata": {},
     "output_type": "execute_result"
    }
   ],
   "source": [
    "print_column_names(crs_file)"
   ]
  },
  {
   "cell_type": "markdown",
   "metadata": {},
   "source": [
    "# DAC1 DATA"
   ]
  },
  {
   "cell_type": "code",
   "execution_count": 11,
   "metadata": {},
   "outputs": [
    {
     "data": {
      "text/plain": [
       "['DONOR',\n",
       " 'Donor_1',\n",
       " 'PART',\n",
       " 'Part_1',\n",
       " 'AIDTYPE',\n",
       " 'Aid type',\n",
       " 'FLOWS',\n",
       " 'Fund flows',\n",
       " 'AMOUNTTYPE',\n",
       " 'Amount type',\n",
       " 'TIME',\n",
       " 'Year',\n",
       " 'Value',\n",
       " 'Flags']"
      ]
     },
     "execution_count": 11,
     "metadata": {},
     "output_type": "execute_result"
    }
   ],
   "source": [
    "print_column_names(dac1_file)"
   ]
  },
  {
   "cell_type": "markdown",
   "metadata": {},
   "source": [
    "## ONE Campaign Multilateral File"
   ]
  },
  {
   "cell_type": "code",
   "execution_count": 12,
   "metadata": {},
   "outputs": [
    {
     "data": {
      "text/plain": [
       "['year',\n",
       " 'indicator',\n",
       " 'donor_code',\n",
       " 'donor_name',\n",
       " 'purpose_code',\n",
       " 'purpose_name',\n",
       " 'channel_code',\n",
       " 'mapped_name',\n",
       " 'prices',\n",
       " 'currency',\n",
       " 'value',\n",
       " '__index_level_0__']"
      ]
     },
     "execution_count": 12,
     "metadata": {},
     "output_type": "execute_result"
    }
   ],
   "source": [
    "print_column_names(imputed_multilateral_file)"
   ]
  },
  {
   "cell_type": "markdown",
   "metadata": {},
   "source": [
    "## Rio Markers File (Allocable ODA)"
   ]
  },
  {
   "cell_type": "code",
   "execution_count": 13,
   "metadata": {},
   "outputs": [
    {
     "data": {
      "text/plain": [
       "['DATAFLOW',\n",
       " 'STRUCTURE_NAME',\n",
       " 'ACTION',\n",
       " 'DONOR',\n",
       " 'Donor_1',\n",
       " 'RECIPIENT',\n",
       " 'Recipient_1',\n",
       " 'SECTOR',\n",
       " 'Sector_1',\n",
       " 'MEASURE',\n",
       " 'Measure_1',\n",
       " 'ALLOCABLE',\n",
       " 'Allocable_1',\n",
       " 'MARKER',\n",
       " 'Marker_1',\n",
       " 'SCORE',\n",
       " 'Score_1',\n",
       " 'FLOW_TYPE',\n",
       " 'Flow type',\n",
       " 'PRICE_BASE',\n",
       " 'Price base',\n",
       " 'MD_DIM',\n",
       " 'Drilldown dimension',\n",
       " 'MD_ID',\n",
       " 'Microdata ID',\n",
       " 'UNIT_MEASURE',\n",
       " 'Unit of measure',\n",
       " 'TIME_PERIOD',\n",
       " 'Time period',\n",
       " 'OBS_VALUE',\n",
       " 'Observation value',\n",
       " 'BASE_PER',\n",
       " 'Base period',\n",
       " 'OBS_STATUS',\n",
       " 'Observation status',\n",
       " 'UNIT_MULT',\n",
       " 'Unit multiplier',\n",
       " 'DECIMALS',\n",
       " 'Decimals_1',\n",
       " 'DONOR_AGENCY',\n",
       " 'Donor agency',\n",
       " 'OECD_ID',\n",
       " 'OECD ID',\n",
       " 'DONOR_PROJECT_ID',\n",
       " 'Donor project ID',\n",
       " 'REGION',\n",
       " 'Region_1',\n",
       " 'INCOME_GROUP',\n",
       " 'Income group',\n",
       " 'CHANNELDELIVERY_CODE',\n",
       " 'Channel of delivery code',\n",
       " 'CHANNELDELIVERY_NAME',\n",
       " 'Channel of delivery name',\n",
       " 'SHORT_DESCRIPTION',\n",
       " 'Short description',\n",
       " 'PROJECT_TITLE',\n",
       " 'Project title',\n",
       " 'LONG_DESCRIPTION',\n",
       " 'Long description',\n",
       " 'GENDER_EQUALITY',\n",
       " 'Gender equality',\n",
       " 'ENVIRONMENT',\n",
       " 'Environment_1',\n",
       " 'BIODIVERSITY',\n",
       " 'Biodiversity_1',\n",
       " 'CLIMATE_MITIGATION',\n",
       " 'Climate mitigation',\n",
       " 'CLIMATE_ADAPTATION',\n",
       " 'Climate adaptation',\n",
       " 'DESERTIFICATION',\n",
       " 'Desertification_1']"
      ]
     },
     "execution_count": 13,
     "metadata": {},
     "output_type": "execute_result"
    }
   ],
   "source": [
    "print_column_names(rf_file)"
   ]
  },
  {
   "cell_type": "code",
   "execution_count": 4,
   "metadata": {},
   "outputs": [
    {
     "name": "stdout",
     "output_type": "stream",
     "text": [
      "['DATAFLOW,STRUCTURE_NAME,ACTION,DONOR,Donor,RECIPIENT,Recipient,SECTOR,Sector,MEASURE,Measure,ALLOCABLE,Allocable,MARKER,Marker,SCORE,Score,FLOW_TYPE,Flow type,PRICE_BASE,Price base,MD_DIM,Drilldown dimension,MD_ID,Microdata ID,UNIT_MEASURE,Unit of measure,TIME_PERIOD,Time period,OBS_VALUE,Observation value,BASE_PER,Base period,OBS_STATUS,Observation status,UNIT_MULT,Unit multiplier,DECIMALS,Decimals,DONOR_AGENCY,Donor agency,OECD_ID,OECD ID,DONOR_PROJECT_ID,Donor project ID,REGION,Region,INCOME_GROUP,Income group,CHANNELDELIVERY_CODE,Channel of delivery code,CHANNELDELIVERY_NAME,Channel of delivery name,SHORT_DESCRIPTION,Short description,PROJECT_TITLE,Project title,LONG_DESCRIPTION,Long description,GENDER_EQUALITY,Gender equality,ENVIRONMENT,Environment,BIODIVERSITY,Biodiversity,CLIMATE_MITIGATION,Climate mitigation,CLIMATE_ADAPTATION,Climate adaptation,DESERTIFICATION,Desertification']\n"
     ]
    }
   ],
   "source": [
    "with duckdb.connect() as conn:\n",
    "\n",
    "        cols_query = f\"\"\"\n",
    "        SELECT * FROM read_csv_auto('{climate_riomarker_file}', delim='|', header=True)\n",
    "        LIMIT1\n",
    "        \"\"\"\n",
    "        result = conn.execute(cols_query)\n",
    "\n",
    "        # Get the column names from the description attribute\n",
    "        column_names = [desc[0] for desc in result.description]\n",
    "print(column_names)"
   ]
  },
  {
   "cell_type": "code",
   "execution_count": 5,
   "metadata": {},
   "outputs": [
    {
     "name": "stdout",
     "output_type": "stream",
     "text": [
      "['Year', 'DonorCode', 'DonorNameE', 'AgencyNameE', 'Amount', 'FlowType', 'AmountType', 'AidToOrThru', 'ChannelCode', 'ChannelNameE', 'ChannelReportedNameE', 'ChannelCategory', 'ChannelCategoryName', 'RecipientCode', 'RecipientNameE', 'Purposecode', 'Purposename_e', 'ShortDescription', 'Gender', 'Environment', 'Free-standing Technical Co-operation', 'Programme Based Approaches', 'InvestmentProject', 'Biodiversity', 'ClimateMitigation', 'ClimateAdaptation', 'Desertification', 'RegionNameE', 'IncomeGroupNameE', 'FlowCode', 'FlowName_e', 'Aid_T', 'Aid_T_Description_E', 'Sector', 'SectorNameE', 'Geography', 'ProjectTitle', 'LongDescription', 'CRSid', 'ProjectNumber']\n"
     ]
    }
   ],
   "source": [
    "with duckdb.connect() as conn:\n",
    "\n",
    "        cols_query = f\"\"\"\n",
    "        SELECT * FROM read_csv_auto('{multisystem_file}', delim='|', header=True)\n",
    "        LIMIT1\n",
    "        \"\"\"\n",
    "        result = conn.execute(cols_query)\n",
    "\n",
    "        # Get the column names from the description attribute\n",
    "        column_names = [desc[0] for desc in result.description]\n",
    "print(column_names)"
   ]
  }
 ],
 "metadata": {
  "kernelspec": {
   "display_name": ".venv",
   "language": "python",
   "name": "python3"
  },
  "language_info": {
   "codemirror_mode": {
    "name": "ipython",
    "version": 3
   },
   "file_extension": ".py",
   "mimetype": "text/x-python",
   "name": "python",
   "nbconvert_exporter": "python",
   "pygments_lexer": "ipython3",
   "version": "3.12.8"
  }
 },
 "nbformat": 4,
 "nbformat_minor": 2
}
